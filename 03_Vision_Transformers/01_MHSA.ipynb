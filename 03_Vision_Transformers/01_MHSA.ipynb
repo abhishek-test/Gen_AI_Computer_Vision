{
 "cells": [
  {
   "cell_type": "code",
   "execution_count": 10,
   "metadata": {},
   "outputs": [],
   "source": [
    "import torch\n",
    "import torchvision\n",
    "import numpy as np\n",
    "import torch.nn as nn\n",
    "from torchvision import transforms\n",
    "\n",
    "import math\n",
    "import random\n",
    "import matplotlib.pyplot as plt"
   ]
  },
  {
   "cell_type": "markdown",
   "metadata": {},
   "source": [
    "MULTI HEAD SELF ATTENTION\n",
    " - self-attention computes relationships between elements in a sequence — like how patch A attends to patch B\n",
    " - instead of just one set of attention weights, MHSA splits it into multiple “heads”, each learning different relationships\n",
    " - they all look at the same input, but each sees different patterns\n",
    " - Each head looks at all patches, but learns to focus on different visual cues:\n",
    "\n",
    "        | Head 1 | → center of object\n",
    "        | Head 2 | → edges\n",
    "        | Head 3 | → object boundaries\n",
    "        | Head 4 | → spatial layout\n",
    "        | ... |\n",
    "        | Head 12| → fine-grained textures\n",
    "\n",
    " - That’s the multi-head magic: parallel perspectives."
   ]
  },
  {
   "cell_type": "code",
   "execution_count": 13,
   "metadata": {},
   "outputs": [],
   "source": [
    "\n",
    "class MultiHeadAttention(nn.Module):\n",
    "    def __init__(self, dim, num_heads):\n",
    "        super(MultiHeadAttention, self).__init__()\n",
    "        self.num_heads = num_heads\n",
    "        self.dim = dim\n",
    "        self.head_dim = dim // num_heads\n",
    "\n",
    "        assert self.head_dim * num_heads == dim, \"dim must be divisible by num_heads\"\n",
    "\n",
    "        self.query = nn.Linear(dim, dim)   # has learnable weights and biases that transform the input into the query space\n",
    "        self.key   = nn.Linear(dim, dim)   # has learnable weights and biases that transform the input into the key space\n",
    "        self.value = nn.Linear(dim, dim)   # has learnable weights and biases that transform the input into the value space\n",
    "        self.out   = nn.Linear(dim, dim)   # has learnable weights and biases similar to the other linear layer\n",
    "\n",
    "    def forward(self, x):\n",
    "        batch_size = x.size(0)\n",
    "\n",
    "        # Linear projections\n",
    "        Q = self.query(x)  # (batch_size, seq_length, dim)\n",
    "        K = self.key(x)    # (batch_size, seq_length, dim)\n",
    "        V = self.value(x)  # (batch_size, seq_length, dim)\n",
    "\n",
    "        # Split into multiple heads\n",
    "        Q = Q.view(batch_size, -1, self.num_heads, self.head_dim).transpose(1, 2)  # (batch_size, num_heads, seq_length, head_dim)\n",
    "        K = K.view(batch_size, -1, self.num_heads, self.head_dim).transpose(1, 2)  # (batch_size, num_heads, seq_length, head_dim)\n",
    "        V = V.view(batch_size, -1, self.num_heads, self.head_dim).transpose(1, 2)  # (batch_size, num_heads, seq_length, head_dim)\n",
    "\n",
    "        # Scaled dot-product attention\n",
    "        scores  = torch.matmul(Q, K.transpose(-2, -1)) / math.sqrt(self.head_dim)  # (batch_size, num_heads, seq_length, seq_length)\n",
    "        attn    = torch.softmax(scores, dim=-1)  # (batch_size, num_heads, seq_length, seq_length)\n",
    "        context = torch.matmul(attn, V)          # (batch_size, num_heads, seq_length, head_dim)\n",
    "\n",
    "        # Concatenate heads\n",
    "        context = context.transpose(1, 2).contiguous().view(batch_size, -1, self.dim)  # (batch_size, seq_length, dim)\n",
    "\n",
    "        # Final linear layer\n",
    "        out = self.out(context)  # (batch_size, seq_length, dim)\n",
    "\n",
    "        return out"
   ]
  },
  {
   "cell_type": "code",
   "execution_count": 14,
   "metadata": {},
   "outputs": [
    {
     "name": "stdout",
     "output_type": "stream",
     "text": [
      "torch.Size([1, 64, 128])\n"
     ]
    }
   ],
   "source": [
    "# Example usage\n",
    "# seq_length is the number of tokens (or patches) in each sample.\n",
    "# dim is the embedding dimension of each token (or patch)\n",
    "\n",
    "x = torch.randn(1, 64, 128)  # Example input tensor with shape (batch_size, seq_length, dim)\n",
    "multi_head_attn = MultiHeadAttention(dim=128, num_heads=8)\n",
    "output = multi_head_attn(x)\n",
    "print(output.shape)  # Should be (1, 64, 128)"
   ]
  }
 ],
 "metadata": {
  "kernelspec": {
   "display_name": "Python 3",
   "language": "python",
   "name": "python3"
  },
  "language_info": {
   "codemirror_mode": {
    "name": "ipython",
    "version": 3
   },
   "file_extension": ".py",
   "mimetype": "text/x-python",
   "name": "python",
   "nbconvert_exporter": "python",
   "pygments_lexer": "ipython3",
   "version": "3.12.5"
  }
 },
 "nbformat": 4,
 "nbformat_minor": 2
}
